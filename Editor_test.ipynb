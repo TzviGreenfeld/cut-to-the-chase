{
 "cells": [
  {
   "cell_type": "code",
   "execution_count": 3,
   "metadata": {},
   "outputs": [],
   "source": [
    "from tools.video_tools import Editor\n",
    "from tools.frame_detector import FrameDetector\n",
    "from matplotlib import pyplot as plt\n",
    "import matplotlib.patches as patches\n",
    "file_name = \"test/samples/sample_episode.mp4\"\n",
    "editor = Editor(file_path=file_name)"
   ]
  },
  {
   "cell_type": "code",
   "execution_count": 4,
   "metadata": {},
   "outputs": [],
   "source": [
    "h, w = editor.h, editor.w\n",
    "frames = editor.get_frame_every_x_seconds(x=2, crop=(h//2, h, w//2, w), blackAndWhite=True)\n",
    "frames_dict = {f[0]: f[1] for f in frames}\n"
   ]
  },
  {
   "cell_type": "code",
   "execution_count": 5,
   "metadata": {},
   "outputs": [
    {
     "name": "stderr",
     "output_type": "stream",
     "text": [
      "100%|██████████| 1559/1559 [01:36<00:00, 16.14it/s]\n"
     ]
    }
   ],
   "source": [
    "detector = FrameDetector(frames_dict)\n",
    "detector.detect()\n",
    "best = detector.get_best_results()"
   ]
  },
  {
   "cell_type": "code",
   "execution_count": 6,
   "metadata": {},
   "outputs": [
    {
     "data": {
      "text/plain": [
       "numpy.float64"
      ]
     },
     "execution_count": 6,
     "metadata": {},
     "output_type": "execute_result"
    }
   ],
   "source": [
    "type(best[0].stamp)"
   ]
  },
  {
   "cell_type": "code",
   "execution_count": 11,
   "metadata": {},
   "outputs": [
    {
     "data": {
      "text/plain": [
       "6"
      ]
     },
     "execution_count": 11,
     "metadata": {},
     "output_type": "execute_result"
    }
   ],
   "source": [
    "len(best)"
   ]
  },
  {
   "cell_type": "code",
   "execution_count": 17,
   "metadata": {},
   "outputs": [
    {
     "name": "stdout",
     "output_type": "stream",
     "text": [
      "6\n",
      "63\n",
      "63\n",
      "63\n",
      "63\n",
      "123\n",
      "123\n"
     ]
    }
   ],
   "source": [
    "editor.clips = []\n",
    "for frame in sorted(best, key=lambda x: x.stamp):\n",
    "    dur = 0\n",
    "    if frame.text[0] == '1':\n",
    "        dur = 60\n",
    "    elif frame.text[0] == '2':\n",
    "        dur = 120\n",
    "\n",
    "    editor.add_subclip(int(frame.stamp), dur + 3)   \n",
    "print(len(editor.clips))\n",
    "for c in editor.clips :\n",
    "    print(c.duration)"
   ]
  },
  {
   "cell_type": "code",
   "execution_count": 18,
   "metadata": {},
   "outputs": [
    {
     "name": "stdout",
     "output_type": "stream",
     "text": [
      "Moviepy - Building video test/samples/sample_episode_output.mp4.\n",
      "MoviePy - Writing audio in sample_episode_outputTEMP_MPY_wvf_snd.mp3\n"
     ]
    },
    {
     "name": "stderr",
     "output_type": "stream",
     "text": [
      "                                                                        \r"
     ]
    },
    {
     "name": "stdout",
     "output_type": "stream",
     "text": [
      "MoviePy - Done.\n",
      "Moviepy - Writing video test/samples/sample_episode_output.mp4\n",
      "\n"
     ]
    },
    {
     "name": "stderr",
     "output_type": "stream",
     "text": [
      "                                                                   \r"
     ]
    },
    {
     "name": "stdout",
     "output_type": "stream",
     "text": [
      "Moviepy - Done !\n",
      "Moviepy - video ready test/samples/sample_episode_output.mp4\n"
     ]
    },
    {
     "data": {
      "text/plain": [
       "True"
      ]
     },
     "execution_count": 18,
     "metadata": {},
     "output_type": "execute_result"
    }
   ],
   "source": [
    "editor.output_concatenated_sub_clips(\"test/samples/sample_episode_output.mp4\")\n"
   ]
  },
  {
   "cell_type": "code",
   "execution_count": null,
   "metadata": {},
   "outputs": [],
   "source": [
    "# def show(frames):\n",
    "#     fig, axs = plt.subplots((len(frames) + 1) // 3, 3, figsize=(10,8))\n",
    "#     axs = axs.flatten()\n",
    "#     for i, frame in enumerate(frames):\n",
    "#         m, s = divmod(frame.stamp, 60)\n",
    "#         x1, y1 = frame.rect[0]\n",
    "#         x2, y2 = frame.rect[2]\n",
    "#         w, h = x2 - x1, y2 - y1\n",
    "#         axs[i].axis('off')   \n",
    "#         axs[i].set_title(f\"{int(m)}:{int(s)}\", loc=\"left\")\n",
    "#         axs[i].set_title(\"confidence: {:.3}\".format(frame.confidence), fontsize=8, loc=\"right\")\n",
    "#         rect = patches.Rectangle((x1 - 5, y1 - 5), w + 5, h + 5, linewidth=0.6, edgecolor='r', facecolor='none')\n",
    "#         axs[i].add_patch(rect)\n",
    "#         axs[i].imshow(frames_dict[frame.stamp], cmap=\"gray\")\n",
    "\n",
    "# show(best)"
   ]
  }
 ],
 "metadata": {
  "kernelspec": {
   "display_name": "Python 3.8.10 64-bit",
   "language": "python",
   "name": "python3"
  },
  "language_info": {
   "codemirror_mode": {
    "name": "ipython",
    "version": 3
   },
   "file_extension": ".py",
   "mimetype": "text/x-python",
   "name": "python",
   "nbconvert_exporter": "python",
   "pygments_lexer": "ipython3",
   "version": "3.8.10"
  },
  "orig_nbformat": 4,
  "vscode": {
   "interpreter": {
    "hash": "31f2aee4e71d21fbe5cf8b01ff0e069b9275f58929596ceb00d14d90e3e16cd6"
   }
  }
 },
 "nbformat": 4,
 "nbformat_minor": 2
}
