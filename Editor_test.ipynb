{
 "cells": [
  {
   "cell_type": "code",
   "execution_count": 4,
   "metadata": {},
   "outputs": [],
   "source": [
    "from tools.video_tools import Editor\n",
    "from tools.frame_detector import FrameDetector\n",
    "from matplotlib import pyplot as plt\n",
    "import matplotlib.patches as patches\n",
    "file_name = \"test/samples/sample_episode.mp4\"\n",
    "editor = Editor(file_path=file_name)"
   ]
  },
  {
   "cell_type": "code",
   "execution_count": 7,
   "metadata": {},
   "outputs": [],
   "source": [
    "h, w = editor.h, editor.w\n",
    "frames = editor.get_frame_every_x_seconds(x=2, crop=(h//2, h, w//2, w), blackAndWhite=True)\n",
    "frames_dict = {f[0]: f[1] for f in frames}\n"
   ]
  },
  {
   "cell_type": "code",
   "execution_count": null,
   "metadata": {},
   "outputs": [],
   "source": [
    "# show keys of frame_dict as string\n",
    "print(\"keys: \" + str(list(frames_dict.keys())))"
   ]
  },
  {
   "cell_type": "code",
   "execution_count": 9,
   "metadata": {},
   "outputs": [
    {
     "name": "stderr",
     "output_type": "stream",
     "text": [
      "100%|██████████| 1559/1559 [01:37<00:00, 15.99it/s]\n"
     ]
    },
    {
     "ename": "TypeError",
     "evalue": "strptime() argument 1 must be str, not numpy.float64",
     "output_type": "error",
     "traceback": [
      "\u001b[0;31m---------------------------------------------------------------------------\u001b[0m",
      "\u001b[0;31mTypeError\u001b[0m                                 Traceback (most recent call last)",
      "Cell \u001b[0;32mIn [9], line 3\u001b[0m\n\u001b[1;32m      1\u001b[0m detector \u001b[38;5;241m=\u001b[39m FrameDetector(frames_dict)\n\u001b[1;32m      2\u001b[0m detector\u001b[38;5;241m.\u001b[39mdetect()\n\u001b[0;32m----> 3\u001b[0m best \u001b[38;5;241m=\u001b[39m \u001b[43mdetector\u001b[49m\u001b[38;5;241;43m.\u001b[39;49m\u001b[43mget_best_results\u001b[49m\u001b[43m(\u001b[49m\u001b[43m)\u001b[49m\n",
      "File \u001b[0;32m~/chaser/tools/frame_detector.py:64\u001b[0m, in \u001b[0;36mFrameDetector.get_best_results\u001b[0;34m(self)\u001b[0m\n\u001b[1;32m     62\u001b[0m \u001b[39mfor\u001b[39;00m frame \u001b[39min\u001b[39;00m \u001b[39mself\u001b[39m\u001b[39m.\u001b[39mfound:\n\u001b[1;32m     63\u001b[0m     curr \u001b[39m=\u001b[39m \u001b[39m0\u001b[39m \u001b[39mif\u001b[39;00m frame\u001b[39m.\u001b[39mtext[\u001b[39m0\u001b[39m] \u001b[39m==\u001b[39m \u001b[39m'\u001b[39m\u001b[39m1\u001b[39m\u001b[39m'\u001b[39m \u001b[39melse\u001b[39;00m \u001b[39m1\u001b[39m\n\u001b[0;32m---> 64\u001b[0m     \u001b[39mif\u001b[39;00m ((counts[curr] \u001b[39m>\u001b[39m \u001b[39m0\u001b[39m \u001b[39mand\u001b[39;00m frame\u001b[39m.\u001b[39;49mmin_time_diff(best_frames) \u001b[39m>\u001b[39m \u001b[39m60\u001b[39m) \u001b[39mor\u001b[39;00m\n\u001b[1;32m     65\u001b[0m         counts[curr] \u001b[39m==\u001b[39m \u001b[39m0\u001b[39m):\n\u001b[1;32m     66\u001b[0m         best_frames\u001b[39m.\u001b[39mappend(frame)\n\u001b[1;32m     67\u001b[0m         counts[curr] \u001b[39m+\u001b[39m\u001b[39m=\u001b[39m \u001b[39m1\u001b[39m\n",
      "File \u001b[0;32m~/chaser/tools/frame_detector.py:21\u001b[0m, in \u001b[0;36mFrame.min_time_diff\u001b[0;34m(self, others)\u001b[0m\n\u001b[1;32m     19\u001b[0m min_delta \u001b[39m=\u001b[39m timedelta(seconds\u001b[39m=\u001b[39m\u001b[39m99999\u001b[39m)\n\u001b[1;32m     20\u001b[0m \u001b[39mfor\u001b[39;00m frame \u001b[39min\u001b[39;00m others:\n\u001b[0;32m---> 21\u001b[0m     t1 \u001b[39m=\u001b[39m datetime\u001b[39m.\u001b[39;49mstrptime(\u001b[39mself\u001b[39;49m\u001b[39m.\u001b[39;49mstamp, \u001b[39m\"\u001b[39;49m\u001b[39m%\u001b[39;49m\u001b[39mM:\u001b[39;49m\u001b[39m%\u001b[39;49m\u001b[39mS\u001b[39;49m\u001b[39m\"\u001b[39;49m)\n\u001b[1;32m     22\u001b[0m     t2 \u001b[39m=\u001b[39m datetime\u001b[39m.\u001b[39mstrptime(frame\u001b[39m.\u001b[39mstamp, \u001b[39m'\u001b[39m\u001b[39m%\u001b[39m\u001b[39mM:\u001b[39m\u001b[39m%\u001b[39m\u001b[39mS\u001b[39m\u001b[39m'\u001b[39m)\n\u001b[1;32m     23\u001b[0m     delta \u001b[39m=\u001b[39m \u001b[39mmax\u001b[39m(t1, t2) \u001b[39m-\u001b[39m \u001b[39mmin\u001b[39m(t1, t2)\n",
      "\u001b[0;31mTypeError\u001b[0m: strptime() argument 1 must be str, not numpy.float64"
     ]
    }
   ],
   "source": [
    "detector = FrameDetector(frames_dict)\n",
    "detector.detect()\n",
    "best = detector.get_best_results()"
   ]
  },
  {
   "cell_type": "code",
   "execution_count": null,
   "metadata": {},
   "outputs": [],
   "source": [
    "def show(frmaes):\n",
    "    fig, axs = plt.subplots((len(frmaes) + 1) // 3, 3, figsize=(10,8))\n",
    "    axs = axs.flatten()\n",
    "    for i, frame in enumerate(frmaes):\n",
    "        x1, y1 = frame.rect[0]\n",
    "        x2, y2 = frame.rect[2]\n",
    "        w, h = x2 - x1, y2 - y1\n",
    "        axs[i].axis('off')   \n",
    "        axs[i].set_title(f\"{frame.stamp}\", loc=\"left\")\n",
    "        axs[i].set_title(\"confidence: {:.3}\".format(frame.confidence), fontsize=8, loc=\"right\")\n",
    "        rect = patches.Rectangle((x1 - 5, y1 - 5), w + 5, h + 5, linewidth=0.6, edgecolor='r', facecolor='none')\n",
    "        axs[i].add_patch(rect)\n",
    "        axs[i].imshow(frames[frame.stamp], cmap=\"gray\")\n",
    "\n",
    "show(best)"
   ]
  }
 ],
 "metadata": {
  "kernelspec": {
   "display_name": "Python 3.8.10 64-bit",
   "language": "python",
   "name": "python3"
  },
  "language_info": {
   "codemirror_mode": {
    "name": "ipython",
    "version": 3
   },
   "file_extension": ".py",
   "mimetype": "text/x-python",
   "name": "python",
   "nbconvert_exporter": "python",
   "pygments_lexer": "ipython3",
   "version": "3.8.10"
  },
  "orig_nbformat": 4,
  "vscode": {
   "interpreter": {
    "hash": "31f2aee4e71d21fbe5cf8b01ff0e069b9275f58929596ceb00d14d90e3e16cd6"
   }
  }
 },
 "nbformat": 4,
 "nbformat_minor": 2
}
