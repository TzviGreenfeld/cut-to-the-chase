{
 "cells": [
  {
   "cell_type": "code",
   "execution_count": 1,
   "metadata": {},
   "outputs": [],
   "source": [
    "import easyocr\n",
    "import re\n",
    "import cv2\n",
    "from tqdm.notebook import tqdm\n",
    "from datetime import datetime\n",
    "from tools.frame_detector import FrameDetector\n",
    "from matplotlib import pyplot as plt\n",
    "import matplotlib.patches as patches\n"
   ]
  },
  {
   "cell_type": "code",
   "execution_count": 2,
   "metadata": {},
   "outputs": [],
   "source": [
    "file_name = \"test/samples/sample_episode.mp4\"\n",
    "vidcap = cv2.VideoCapture(file_name)\n",
    "success, image = vidcap.read()\n",
    "fps = vidcap.get(cv2.CAP_PROP_FPS)\n",
    "frame_count = int(vidcap.get(cv2.CAP_PROP_FRAME_COUNT))\n",
    "h, w, _ = image.shape\n"
   ]
  },
  {
   "cell_type": "code",
   "execution_count": 3,
   "metadata": {},
   "outputs": [
    {
     "data": {
      "application/json": {
       "ascii": false,
       "bar_format": null,
       "colour": null,
       "elapsed": 0.04513192176818848,
       "initial": 0,
       "n": 0,
       "ncols": null,
       "nrows": null,
       "postfix": null,
       "prefix": "",
       "rate": null,
       "total": 77932,
       "unit": "it",
       "unit_divisor": 1000,
       "unit_scale": false
      },
      "application/vnd.jupyter.widget-view+json": {
       "model_id": "757cf061a26f49c29795841902eb1073",
       "version_major": 2,
       "version_minor": 0
      },
      "text/plain": [
       "  0%|          | 0/77932 [00:00<?, ?it/s]"
      ]
     },
     "metadata": {},
     "output_type": "display_data"
    }
   ],
   "source": [
    "frames = {}\n",
    "\n",
    "pbar = tqdm(total=frame_count)\n",
    "count = 0\n",
    "while(success):\n",
    "    if count % (2 * fps) == 0:  # every 2 seconds\n",
    "        success, image = vidcap.read()\n",
    "\n",
    "        # get frame timestamp\n",
    "        timestamp = vidcap.get(cv2.CAP_PROP_POS_MSEC) / 1000\n",
    "        timestamp = datetime.fromtimestamp(timestamp).strftime('%M:%S')\n",
    "        \n",
    "        if image is not None:\n",
    "            image = cv2.cvtColor(image, cv2.COLOR_BGR2GRAY)\n",
    "            frames[timestamp] = image[h//2:h, w//2:w]\n",
    "\n",
    "    else:\n",
    "        ret = vidcap.grab()\n",
    "    count += 1\n",
    "    # pbar.update(1)\n",
    "# pbar.close()"
   ]
  },
  {
   "cell_type": "code",
   "execution_count": 4,
   "metadata": {},
   "outputs": [
    {
     "name": "stderr",
     "output_type": "stream",
     "text": [
      "100%|██████████| 1559/1559 [01:42<00:00, 15.22it/s]\n"
     ]
    }
   ],
   "source": [
    "detector = FrameDetector(frames)\n",
    "detector.detect()"
   ]
  },
  {
   "cell_type": "code",
   "execution_count": 5,
   "metadata": {},
   "outputs": [
    {
     "name": "stdout",
     "output_type": "stream",
     "text": [
      "detector.found=[('49:00', [[280, 138], [336, 138], [336, 170], [280, 170]], '2.00', 0.9766212701797485), ('45:46', [[280, 138], [336, 138], [336, 170], [280, 170]], '2.00', 0.9765257239341736), ('49:04', [[280, 138], [336, 138], [336, 170], [280, 170]], '2.00', 0.9764188528060913), ('49:02', [[280, 138], [336, 138], [336, 170], [280, 170]], '2.00', 0.9757879972457886), ('13:30', [[128, 162], [182, 162], [182, 192], [128, 192]], '1.00', 0.9577692151069641), ('25:36', [[128, 74], [182, 74], [182, 104], [128, 104]], '1.00', 0.8181162476539612), ('25:34', [[128, 162], [182, 162], [182, 192], [128, 192]], '1.00', 0.7735087871551514), ('02:54', [[128, 162], [182, 162], [182, 192], [128, 192]], '1.00', 0.767864465713501), ('34:48', [[128, 162], [182, 162], [182, 192], [128, 192]], '1.00', 0.7639825940132141), ('34:50', [[128, 130], [182, 130], [182, 162], [128, 162]], '1.00', 0.7011147737503052), ('02:56', [[128, 72], [182, 72], [182, 104], [128, 104]], '1.00', 0.5675072073936462), ('50:30', [[280, 72], [336, 72], [336, 104], [280, 104]], '1.00', 0.5443403720855713), ('46:48', [[280, 72], [336, 72], [336, 104], [280, 104]], '1:00', 0.5260469913482666)]\n"
     ]
    },
    {
     "ename": "TypeError",
     "evalue": "an integer is required (got type str)",
     "output_type": "error",
     "traceback": [
      "\u001b[0;31m---------------------------------------------------------------------------\u001b[0m",
      "\u001b[0;31mTypeError\u001b[0m                                 Traceback (most recent call last)",
      "Cell \u001b[0;32mIn [5], line 2\u001b[0m\n\u001b[1;32m      1\u001b[0m \u001b[38;5;28mprint\u001b[39m(\u001b[38;5;124mf\u001b[39m\u001b[38;5;124m\"\u001b[39m\u001b[38;5;132;01m{\u001b[39;00mdetector\u001b[38;5;241m.\u001b[39mfound\u001b[38;5;132;01m=}\u001b[39;00m\u001b[38;5;124m\"\u001b[39m)\n\u001b[0;32m----> 2\u001b[0m \u001b[38;5;28mprint\u001b[39m(\u001b[38;5;124mf\u001b[39m\u001b[38;5;124m\"\u001b[39m\u001b[38;5;132;01m{\u001b[39;00mdetector\u001b[38;5;241m.\u001b[39mget_best_results()\u001b[38;5;132;01m=}\u001b[39;00m\u001b[38;5;124m\"\u001b[39m)\n",
      "File \u001b[0;32m~/chaser/tools/frame_detector.py:50\u001b[0m, in \u001b[0;36mFrameDetector.get_best_results\u001b[0;34m(self)\u001b[0m\n\u001b[1;32m     45\u001b[0m last_stamp \u001b[39m=\u001b[39m \u001b[39m0\u001b[39m\n\u001b[1;32m     47\u001b[0m \u001b[39mfor\u001b[39;00m stamp, rect, text, confidence \u001b[39min\u001b[39;00m \u001b[39mself\u001b[39m\u001b[39m.\u001b[39mfound:\n\u001b[1;32m     48\u001b[0m     \u001b[39mif\u001b[39;00m (text[\u001b[39m0\u001b[39m] \u001b[39m==\u001b[39m \u001b[39m'\u001b[39m\u001b[39m1\u001b[39m\u001b[39m'\u001b[39m \u001b[39mand\u001b[39;00m\n\u001b[1;32m     49\u001b[0m         one_cnt \u001b[39m<\u001b[39m \u001b[39m4\u001b[39m \u001b[39mand\u001b[39;00m\n\u001b[0;32m---> 50\u001b[0m         time_diff(best_frames, stamp) \u001b[39m>\u001b[39m timedelta(minutes\u001b[39m=\u001b[39m\u001b[39m1\u001b[39m)):\n\u001b[1;32m     51\u001b[0m         one_cnt \u001b[39m+\u001b[39m\u001b[39m=\u001b[39m \u001b[39m1\u001b[39m\n\u001b[1;32m     52\u001b[0m         best_frames\u001b[39m.\u001b[39mappend((stamp, rect, text, confidence))\n",
      "File \u001b[0;32m~/chaser/tools/frame_detector.py:35\u001b[0m, in \u001b[0;36mFrameDetector.get_best_results.<locals>.time_diff\u001b[0;34m(existing_frames, new_frame_time)\u001b[0m\n\u001b[1;32m     33\u001b[0m min_delta \u001b[39m=\u001b[39m timedelta(minutes\u001b[39m=\u001b[39m\u001b[39m1000\u001b[39m)\n\u001b[1;32m     34\u001b[0m \u001b[39mfor\u001b[39;00m frame \u001b[39min\u001b[39;00m existing_frames:\n\u001b[0;32m---> 35\u001b[0m     t1 \u001b[39m=\u001b[39m datetime\u001b[39m.\u001b[39;49mfromtimestamp(frame[\u001b[39m0\u001b[39;49m])\u001b[39m.\u001b[39mstrftime(\u001b[39m'\u001b[39m\u001b[39m%\u001b[39m\u001b[39mM:\u001b[39m\u001b[39m%\u001b[39m\u001b[39mS\u001b[39m\u001b[39m'\u001b[39m)\n\u001b[1;32m     36\u001b[0m     t2 \u001b[39m=\u001b[39m datetime\u001b[39m.\u001b[39mfromtimestamp(new_frame_time)\u001b[39m.\u001b[39mstrftime(\u001b[39m'\u001b[39m\u001b[39m%\u001b[39m\u001b[39mM:\u001b[39m\u001b[39m%\u001b[39m\u001b[39mS\u001b[39m\u001b[39m'\u001b[39m)\n\u001b[1;32m     37\u001b[0m     delta \u001b[39m=\u001b[39m datetime\u001b[39m.\u001b[39mstrptime(\n\u001b[1;32m     38\u001b[0m         \u001b[39mmax\u001b[39m(t1, t2), \u001b[39m'\u001b[39m\u001b[39m%\u001b[39m\u001b[39mM:\u001b[39m\u001b[39m%\u001b[39m\u001b[39mS\u001b[39m\u001b[39m'\u001b[39m) \u001b[39m-\u001b[39m datetime\u001b[39m.\u001b[39mstrptime(\u001b[39mmin\u001b[39m(t1, t2), \u001b[39m'\u001b[39m\u001b[39m%\u001b[39m\u001b[39mM:\u001b[39m\u001b[39m%\u001b[39m\u001b[39mS\u001b[39m\u001b[39m'\u001b[39m)\n",
      "\u001b[0;31mTypeError\u001b[0m: an integer is required (got type str)"
     ]
    }
   ],
   "source": [
    "print(f\"{detector.found=}\")\n",
    "print(f\"{detector.get_best_results()=}\")"
   ]
  },
  {
   "cell_type": "code",
   "execution_count": null,
   "metadata": {},
   "outputs": [],
   "source": [
    "fig, axs = plt.subplots(2, 3, figsize=(10,8))\n",
    "axs = axs.flatten()\n",
    "for i, frame in enumerate(detector.get_best_results()):\n",
    "    x1, y1 = frame[1][0]\n",
    "    x2, y2 = frame[1][2]\n",
    "    w, h = x2 - x1, y2 - y1\n",
    "    axs[i].axis('off')   \n",
    "    axs[i].set_title(f\"frame {frame[0]}\", loc=\"left\")\n",
    "    axs[i].set_title(\"confidence: {:.3}\".format(frame[3]), fontsize=8, loc=\"right\")\n",
    "    rect = patches.Rectangle((x1 - 5, y1 - 5), w + 5, h + 5, linewidth=0.6, edgecolor='r', facecolor='none')\n",
    "    axs[i].add_patch(rect)\n",
    "    axs[i].imshow(frames[frame[0]], cmap=\"gray\")"
   ]
  },
  {
   "cell_type": "code",
   "execution_count": null,
   "metadata": {},
   "outputs": [],
   "source": [
    "vidcap.release()"
   ]
  }
 ],
 "metadata": {
  "kernelspec": {
   "display_name": "Python 3.8.10 64-bit",
   "language": "python",
   "name": "python3"
  },
  "language_info": {
   "codemirror_mode": {
    "name": "ipython",
    "version": 3
   },
   "file_extension": ".py",
   "mimetype": "text/x-python",
   "name": "python",
   "nbconvert_exporter": "python",
   "pygments_lexer": "ipython3",
   "version": "3.8.10"
  },
  "orig_nbformat": 4,
  "vscode": {
   "interpreter": {
    "hash": "31f2aee4e71d21fbe5cf8b01ff0e069b9275f58929596ceb00d14d90e3e16cd6"
   }
  }
 },
 "nbformat": 4,
 "nbformat_minor": 2
}
