{
 "cells": [
  {
   "cell_type": "code",
   "execution_count": null,
   "metadata": {},
   "outputs": [],
   "source": [
    "import easyocr\n",
    "import re\n",
    "import cv2\n",
    "from tqdm.notebook import tqdm\n",
    "from datetime import datetime\n",
    "from tools.frame_detector import FrameDetector, Frame\n",
    "from matplotlib import pyplot as plt\n",
    "import matplotlib.patches as patches\n"
   ]
  },
  {
   "cell_type": "code",
   "execution_count": null,
   "metadata": {},
   "outputs": [],
   "source": [
    "file_name = \"test/samples/sample_episode.mp4\"\n",
    "vidcap = cv2.VideoCapture(file_name)\n",
    "success, image = vidcap.read()\n",
    "fps = vidcap.get(cv2.CAP_PROP_FPS)\n",
    "frame_count = int(vidcap.get(cv2.CAP_PROP_FRAME_COUNT))\n",
    "h, w, _ = image.shape\n"
   ]
  },
  {
   "cell_type": "code",
   "execution_count": null,
   "metadata": {},
   "outputs": [],
   "source": [
    "frames = {}\n",
    "\n",
    "pbar = tqdm(total=frame_count)\n",
    "count = 0\n",
    "while(success):\n",
    "    if count % (2 * fps) == 0:  # every 2 seconds\n",
    "        success, image = vidcap.read()\n",
    "\n",
    "        # get frame timestamp\n",
    "        timestamp = vidcap.get(cv2.CAP_PROP_POS_MSEC) / 1000\n",
    "        timestamp = datetime.fromtimestamp(timestamp).strftime('%M:%S')\n",
    "        \n",
    "        if image is not None:\n",
    "            image = cv2.cvtColor(image, cv2.COLOR_BGR2GRAY)\n",
    "            frames[timestamp] = image[h//2:h, w//2:w]\n",
    "\n",
    "    else:\n",
    "        ret = vidcap.grab()\n",
    "    count += 1\n",
    "    # pbar.update(1)\n",
    "# pbar.close()"
   ]
  },
  {
   "cell_type": "code",
   "execution_count": null,
   "metadata": {},
   "outputs": [],
   "source": [
    "detector = FrameDetector(frames)\n",
    "detector.detect()\n",
    "best = detector.get_best_results()"
   ]
  },
  {
   "cell_type": "code",
   "execution_count": null,
   "metadata": {},
   "outputs": [],
   "source": [
    "def show(frmaes):\n",
    "    fig, axs = plt.subplots(3, (len(frmaes) + 1) // 3, figsize=(10,8))\n",
    "    axs = axs.flatten()\n",
    "    for i, frame in enumerate(frmaes):\n",
    "        x1, y1 = frame.rect[0]\n",
    "        x2, y2 = frame.rect[2]\n",
    "        w, h = x2 - x1, y2 - y1\n",
    "        axs[i].axis('off')   \n",
    "        axs[i].set_title(f\"{frame.stamp}\", loc=\"left\")\n",
    "        axs[i].set_title(\"confidence: {:.3}\".format(frame.confidence), fontsize=8, loc=\"right\")\n",
    "        rect = patches.Rectangle((x1 - 5, y1 - 5), w + 5, h + 5, linewidth=0.6, edgecolor='r', facecolor='none')\n",
    "        axs[i].add_patch(rect)\n",
    "        axs[i].imshow(frames[frame.stamp], cmap=\"gray\")\n",
    "\n",
    "show(best)"
   ]
  },
  {
   "cell_type": "code",
   "execution_count": null,
   "metadata": {},
   "outputs": [],
   "source": [
    "vidcap.release()"
   ]
  }
 ],
 "metadata": {
  "kernelspec": {
   "display_name": "Python 3.8.10 64-bit",
   "language": "python",
   "name": "python3"
  },
  "language_info": {
   "codemirror_mode": {
    "name": "ipython",
    "version": 3
   },
   "file_extension": ".py",
   "mimetype": "text/x-python",
   "name": "python",
   "nbconvert_exporter": "python",
   "pygments_lexer": "ipython3",
   "version": "3.8.10"
  },
  "orig_nbformat": 4,
  "vscode": {
   "interpreter": {
    "hash": "31f2aee4e71d21fbe5cf8b01ff0e069b9275f58929596ceb00d14d90e3e16cd6"
   }
  }
 },
 "nbformat": 4,
 "nbformat_minor": 2
}
