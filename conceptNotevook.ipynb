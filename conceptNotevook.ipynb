{
 "cells": [
  {
   "cell_type": "code",
   "execution_count": 9,
   "metadata": {},
   "outputs": [],
   "source": [
    "import easyocr\n",
    "import re\n",
    "import cv2\n",
    "from tqdm.notebook import tqdm\n",
    "from datetime import datetime\n",
    "from tools.frame_detector import FrameDetector\n",
    "from matplotlib import pyplot as plt\n"
   ]
  },
  {
   "cell_type": "code",
   "execution_count": 3,
   "metadata": {},
   "outputs": [],
   "source": [
    "video_name = \"/home/tzvigr/chaser/test/samples/sample_episode.mp4\"\n",
    "vidcap = cv2.VideoCapture(video_name)\n",
    "success, image = vidcap.read()\n",
    "fps = vidcap.get(cv2.CAP_PROP_FPS)\n",
    "h, w, _ = image.shape\n",
    "count = 0\n",
    "frames = []"
   ]
  },
  {
   "cell_type": "code",
   "execution_count": 4,
   "metadata": {},
   "outputs": [
    {
     "data": {
      "application/json": {
       "ascii": false,
       "bar_format": null,
       "colour": null,
       "elapsed": 0.02169013023376465,
       "initial": 0,
       "n": 0,
       "ncols": null,
       "nrows": null,
       "postfix": null,
       "prefix": "",
       "rate": null,
       "total": 77932,
       "unit": "it",
       "unit_divisor": 1000,
       "unit_scale": false
      },
      "application/vnd.jupyter.widget-view+json": {
       "model_id": "83c6657377514314b64e1f9fd1dc7175",
       "version_major": 2,
       "version_minor": 0
      },
      "text/plain": [
       "  0%|          | 0/77932 [00:00<?, ?it/s]"
      ]
     },
     "metadata": {},
     "output_type": "display_data"
    }
   ],
   "source": [
    "# get some frames as np array\n",
    "# pbar = tqdm(total=int(vidcap.get(cv2.CAP_PROP_FRAME_COUNT)))\n",
    "for count in tqdm(range(int(vidcap.get(cv2.CAP_PROP_FRAME_COUNT)))):\n",
    "    if not success:\n",
    "        break\n",
    "    if count % (2 * fps) == 0:  # every 2 seconds\n",
    "        success, image = vidcap.read()\n",
    "        if image is not None:\n",
    "            image = cv2.cvtColor(image, cv2.COLOR_BGR2GRAY)\n",
    "            frames.append(image[h//2:h, w//2:w])\n",
    "    else:\n",
    "        ret = vidcap.grab()\n",
    "    # count += 1\n",
    "#     pbar.update(1)\n",
    "# pbar.close()"
   ]
  },
  {
   "cell_type": "code",
   "execution_count": null,
   "metadata": {},
   "outputs": [],
   "source": [
    "f = [frames[88], frames[405], frames[768], frames[1045]]\n",
    "\n",
    "reader = easyocr.Reader(['en'], gpu=True)\n",
    "for i, frame in enumerate(f):\n",
    "    result = reader.readtext(frame)\n",
    "    # for j, (rect, text, confidence) in enumerate(result):\n",
    "    for (rect, text, confidence) in result:\n",
    "        # print(f\"{i=}\",f\"{j=}\",f\"{text=}\", f\"{confidence=}\")\n",
    "        print(f\"{i=}\",f\"{text=}\", f\"{confidence=}\")\n",
    "        if re.match('1.00|1:00|2:00|2.00', text):\n",
    "            print(True)\n",
    "    # for (rect, text, confidence) in result:\n",
    "    #     print(text)"
   ]
  },
  {
   "cell_type": "code",
   "execution_count": null,
   "metadata": {},
   "outputs": [],
   "source": [
    "good_frames = map(lambda fr: fr[0],\n",
    "[(1470, '2.00', 0.9766212701797485),\n",
    " (1373, '2.00', 0.9765257239341736),\n",
    " (1472, '2.00', 0.9764188528060913), \n",
    " (1471, '2.00', 0.9757879972457886), \n",
    " (405, '1.00', 0.9577692151069641), \n",
    " (768, '1.00', 0.8181162476539612), \n",
    " (767, '1.00', 0.7735087871551514), \n",
    " (87, '1.00', 0.767864465713501), \n",
    " (1044, '1.00', 0.7639825940132141), \n",
    " (1045, '1.00', 0.7011147737503052), \n",
    " (88, '1.00', 0.5675072073936462), \n",
    " (1515, '1.00', 0.5443403720855713),\n",
    " (1404, '1:00', 0.5260469913482666)]\n",
    ")\n",
    "\n",
    "\n",
    "\n",
    "for i in good_frames:\n",
    "    # plt.figure(figsize = (20,4))\n",
    "    plt.imshow(frames[i], cmap='gray')\n",
    "    plt.show()\n",
    "    "
   ]
  },
  {
   "cell_type": "code",
   "execution_count": null,
   "metadata": {},
   "outputs": [],
   "source": [
    "detector = FrameDetector(frames)\n",
    "detector.detect()\n",
    "print(f\"{detector.get_best_results()=}\")"
   ]
  },
  {
   "cell_type": "code",
   "execution_count": null,
   "metadata": {},
   "outputs": [],
   "source": [
    "vidcap.release()"
   ]
  }
 ],
 "metadata": {
  "kernelspec": {
   "display_name": "Python 3.8.10 64-bit",
   "language": "python",
   "name": "python3"
  },
  "language_info": {
   "codemirror_mode": {
    "name": "ipython",
    "version": 3
   },
   "file_extension": ".py",
   "mimetype": "text/x-python",
   "name": "python",
   "nbconvert_exporter": "python",
   "pygments_lexer": "ipython3",
   "version": "3.8.10"
  },
  "orig_nbformat": 4,
  "vscode": {
   "interpreter": {
    "hash": "31f2aee4e71d21fbe5cf8b01ff0e069b9275f58929596ceb00d14d90e3e16cd6"
   }
  }
 },
 "nbformat": 4,
 "nbformat_minor": 2
}
